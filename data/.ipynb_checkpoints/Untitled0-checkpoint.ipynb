{
 "metadata": {
  "name": "",
  "signature": "sha256:72457282834509f52dbf3549587dd27147bdcd4b688a7fc59b4579fc090f258a"
 },
 "nbformat": 3,
 "nbformat_minor": 0,
 "worksheets": []
}